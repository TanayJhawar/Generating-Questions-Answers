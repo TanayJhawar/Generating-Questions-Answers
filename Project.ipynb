from tkinter import *
from tkinter import messagebox
from PIL import Image,ImageTk
import tkinter as tk
from IPython.display import clear_output
from tkinter import simpledialog
